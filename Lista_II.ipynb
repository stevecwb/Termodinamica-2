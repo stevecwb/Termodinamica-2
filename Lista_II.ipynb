{
  "nbformat": 4,
  "nbformat_minor": 0,
  "metadata": {
    "colab": {
      "name": "Lista II.ipynb",
      "provenance": [],
      "authorship_tag": "ABX9TyNLPuntPwvEGBFsHGzsSfIH",
      "include_colab_link": true
    },
    "kernelspec": {
      "name": "python3",
      "display_name": "Python 3"
    },
    "language_info": {
      "name": "python"
    }
  },
  "cells": [
    {
      "cell_type": "markdown",
      "metadata": {
        "id": "view-in-github",
        "colab_type": "text"
      },
      "source": [
        "<a href=\"https://colab.research.google.com/github/stevecwb/Termodinamica-2/blob/main/Lista_II.ipynb\" target=\"_parent\"><img src=\"https://colab.research.google.com/assets/colab-badge.svg\" alt=\"Open In Colab\"/></a>"
      ]
    },
    {
      "cell_type": "markdown",
      "source": [
        "# [EQ515] Lista II - Exercício 6\n",
        "\n",
        "Estevão Sanches Rodrigues, 168030\n",
        "\n"
      ],
      "metadata": {
        "id": "-5CFpmPefT5s"
      }
    },
    {
      "cell_type": "markdown",
      "source": [
        "## Bibliotecas importadas"
      ],
      "metadata": {
        "id": "7VQlzFNiffpM"
      }
    },
    {
      "cell_type": "code",
      "source": [
        "import numpy as np\n",
        "import matplotlib.pyplot as plt\n",
        "import pandas as pd\n",
        "from scipy.optimize import curve_fit\n",
        "from sklearn.metrics import r2_score, mean_squared_error"
      ],
      "metadata": {
        "id": "scZNU3GIw3JM"
      },
      "execution_count": 1,
      "outputs": []
    },
    {
      "cell_type": "markdown",
      "source": [
        "## Definição de funções: margules (para o $\\ln\\gamma_1$), margules1 (para o $\\ln\\gamma_2$) e antoine."
      ],
      "metadata": {
        "id": "k9BOuwbxfiGK"
      }
    },
    {
      "cell_type": "code",
      "source": [
        "def margules(x2,A,B):\n",
        "  R = 8.314\n",
        "  T = 10 + 273.15\n",
        "  y = ((A+3*B)*(x2**2))/(R*T) - ((4*B)*(x2**3))/(R*T)\n",
        "  return y\n",
        "\n",
        "def margules1(x1,A,B):\n",
        "  R = 8.314\n",
        "  T = 10 + 273.15\n",
        "  y = ((A-3*B)*(x1**2))/(R*T) + ((4*B)*(x1**3))/(R*T)\n",
        "  return y\n",
        "\n",
        "def antoine(T,A,B,C):\n",
        "  P_sat = 100000*(10**(A-((B)/(T+C))))\n",
        "  return P_sat"
      ],
      "metadata": {
        "id": "QatJAr9EyKxL"
      },
      "execution_count": 2,
      "outputs": []
    },
    {
      "cell_type": "markdown",
      "source": [
        "## Dados do problema\n",
        "\n",
        "Impressão da tabela com $x_1$, $y_1$, $x_2$, $y_2$, $P$ e $\\ln\\gamma_1$ (calculados pelas fórmulas do relatório)."
      ],
      "metadata": {
        "id": "fnhnOTDJfxIy"
      }
    },
    {
      "cell_type": "code",
      "execution_count": 3,
      "metadata": {
        "colab": {
          "base_uri": "https://localhost:8080/",
          "height": 426
        },
        "id": "lWV8qHKXvWE_",
        "outputId": "4422a65c-7cc5-4437-dfde-f2a1a3279a8d"
      },
      "outputs": [
        {
          "output_type": "display_data",
          "data": {
            "text/plain": [
              "         x1       y1  P (Pa)       x2       y2  ln gamma1\n",
              "0   0.00001  0.00001    6344  0.99999  0.99999   0.046094\n",
              "1   0.06100  0.09530    6590  0.93900  0.90470   0.530294\n",
              "2   0.21490  0.27100    6980  0.78510  0.72900   0.373580\n",
              "3   0.31870  0.36000    7140  0.68130  0.64000   0.286151\n",
              "4   0.43200  0.44530    7171  0.56800  0.55470   0.198953\n",
              "5   0.52460  0.51060    7216  0.47540  0.48940   0.147836\n",
              "6   0.61170  0.57350    7140  0.38830  0.42650   0.099814\n",
              "7   0.72650  0.66260    6974  0.27350  0.33740   0.048707\n",
              "8   0.80400  0.73120    6845  0.19600  0.26880   0.027191\n",
              "9   0.88300  0.82000    6617  0.11700  0.18000   0.014206\n",
              "10  0.89990  0.83820    6557  0.10010  0.16180   0.008091\n",
              "11  0.99999  0.99999    6073  0.00001  0.00001   0.002437"
            ],
            "text/html": [
              "\n",
              "  <div id=\"df-5e36f145-d5a5-43c4-aa0b-57a60040c8e7\">\n",
              "    <div class=\"colab-df-container\">\n",
              "      <div>\n",
              "<style scoped>\n",
              "    .dataframe tbody tr th:only-of-type {\n",
              "        vertical-align: middle;\n",
              "    }\n",
              "\n",
              "    .dataframe tbody tr th {\n",
              "        vertical-align: top;\n",
              "    }\n",
              "\n",
              "    .dataframe thead th {\n",
              "        text-align: right;\n",
              "    }\n",
              "</style>\n",
              "<table border=\"1\" class=\"dataframe\">\n",
              "  <thead>\n",
              "    <tr style=\"text-align: right;\">\n",
              "      <th></th>\n",
              "      <th>x1</th>\n",
              "      <th>y1</th>\n",
              "      <th>P (Pa)</th>\n",
              "      <th>x2</th>\n",
              "      <th>y2</th>\n",
              "      <th>ln gamma1</th>\n",
              "    </tr>\n",
              "  </thead>\n",
              "  <tbody>\n",
              "    <tr>\n",
              "      <th>0</th>\n",
              "      <td>0.00001</td>\n",
              "      <td>0.00001</td>\n",
              "      <td>6344</td>\n",
              "      <td>0.99999</td>\n",
              "      <td>0.99999</td>\n",
              "      <td>0.046094</td>\n",
              "    </tr>\n",
              "    <tr>\n",
              "      <th>1</th>\n",
              "      <td>0.06100</td>\n",
              "      <td>0.09530</td>\n",
              "      <td>6590</td>\n",
              "      <td>0.93900</td>\n",
              "      <td>0.90470</td>\n",
              "      <td>0.530294</td>\n",
              "    </tr>\n",
              "    <tr>\n",
              "      <th>2</th>\n",
              "      <td>0.21490</td>\n",
              "      <td>0.27100</td>\n",
              "      <td>6980</td>\n",
              "      <td>0.78510</td>\n",
              "      <td>0.72900</td>\n",
              "      <td>0.373580</td>\n",
              "    </tr>\n",
              "    <tr>\n",
              "      <th>3</th>\n",
              "      <td>0.31870</td>\n",
              "      <td>0.36000</td>\n",
              "      <td>7140</td>\n",
              "      <td>0.68130</td>\n",
              "      <td>0.64000</td>\n",
              "      <td>0.286151</td>\n",
              "    </tr>\n",
              "    <tr>\n",
              "      <th>4</th>\n",
              "      <td>0.43200</td>\n",
              "      <td>0.44530</td>\n",
              "      <td>7171</td>\n",
              "      <td>0.56800</td>\n",
              "      <td>0.55470</td>\n",
              "      <td>0.198953</td>\n",
              "    </tr>\n",
              "    <tr>\n",
              "      <th>5</th>\n",
              "      <td>0.52460</td>\n",
              "      <td>0.51060</td>\n",
              "      <td>7216</td>\n",
              "      <td>0.47540</td>\n",
              "      <td>0.48940</td>\n",
              "      <td>0.147836</td>\n",
              "    </tr>\n",
              "    <tr>\n",
              "      <th>6</th>\n",
              "      <td>0.61170</td>\n",
              "      <td>0.57350</td>\n",
              "      <td>7140</td>\n",
              "      <td>0.38830</td>\n",
              "      <td>0.42650</td>\n",
              "      <td>0.099814</td>\n",
              "    </tr>\n",
              "    <tr>\n",
              "      <th>7</th>\n",
              "      <td>0.72650</td>\n",
              "      <td>0.66260</td>\n",
              "      <td>6974</td>\n",
              "      <td>0.27350</td>\n",
              "      <td>0.33740</td>\n",
              "      <td>0.048707</td>\n",
              "    </tr>\n",
              "    <tr>\n",
              "      <th>8</th>\n",
              "      <td>0.80400</td>\n",
              "      <td>0.73120</td>\n",
              "      <td>6845</td>\n",
              "      <td>0.19600</td>\n",
              "      <td>0.26880</td>\n",
              "      <td>0.027191</td>\n",
              "    </tr>\n",
              "    <tr>\n",
              "      <th>9</th>\n",
              "      <td>0.88300</td>\n",
              "      <td>0.82000</td>\n",
              "      <td>6617</td>\n",
              "      <td>0.11700</td>\n",
              "      <td>0.18000</td>\n",
              "      <td>0.014206</td>\n",
              "    </tr>\n",
              "    <tr>\n",
              "      <th>10</th>\n",
              "      <td>0.89990</td>\n",
              "      <td>0.83820</td>\n",
              "      <td>6557</td>\n",
              "      <td>0.10010</td>\n",
              "      <td>0.16180</td>\n",
              "      <td>0.008091</td>\n",
              "    </tr>\n",
              "    <tr>\n",
              "      <th>11</th>\n",
              "      <td>0.99999</td>\n",
              "      <td>0.99999</td>\n",
              "      <td>6073</td>\n",
              "      <td>0.00001</td>\n",
              "      <td>0.00001</td>\n",
              "      <td>0.002437</td>\n",
              "    </tr>\n",
              "  </tbody>\n",
              "</table>\n",
              "</div>\n",
              "      <button class=\"colab-df-convert\" onclick=\"convertToInteractive('df-5e36f145-d5a5-43c4-aa0b-57a60040c8e7')\"\n",
              "              title=\"Convert this dataframe to an interactive table.\"\n",
              "              style=\"display:none;\">\n",
              "        \n",
              "  <svg xmlns=\"http://www.w3.org/2000/svg\" height=\"24px\"viewBox=\"0 0 24 24\"\n",
              "       width=\"24px\">\n",
              "    <path d=\"M0 0h24v24H0V0z\" fill=\"none\"/>\n",
              "    <path d=\"M18.56 5.44l.94 2.06.94-2.06 2.06-.94-2.06-.94-.94-2.06-.94 2.06-2.06.94zm-11 1L8.5 8.5l.94-2.06 2.06-.94-2.06-.94L8.5 2.5l-.94 2.06-2.06.94zm10 10l.94 2.06.94-2.06 2.06-.94-2.06-.94-.94-2.06-.94 2.06-2.06.94z\"/><path d=\"M17.41 7.96l-1.37-1.37c-.4-.4-.92-.59-1.43-.59-.52 0-1.04.2-1.43.59L10.3 9.45l-7.72 7.72c-.78.78-.78 2.05 0 2.83L4 21.41c.39.39.9.59 1.41.59.51 0 1.02-.2 1.41-.59l7.78-7.78 2.81-2.81c.8-.78.8-2.07 0-2.86zM5.41 20L4 18.59l7.72-7.72 1.47 1.35L5.41 20z\"/>\n",
              "  </svg>\n",
              "      </button>\n",
              "      \n",
              "  <style>\n",
              "    .colab-df-container {\n",
              "      display:flex;\n",
              "      flex-wrap:wrap;\n",
              "      gap: 12px;\n",
              "    }\n",
              "\n",
              "    .colab-df-convert {\n",
              "      background-color: #E8F0FE;\n",
              "      border: none;\n",
              "      border-radius: 50%;\n",
              "      cursor: pointer;\n",
              "      display: none;\n",
              "      fill: #1967D2;\n",
              "      height: 32px;\n",
              "      padding: 0 0 0 0;\n",
              "      width: 32px;\n",
              "    }\n",
              "\n",
              "    .colab-df-convert:hover {\n",
              "      background-color: #E2EBFA;\n",
              "      box-shadow: 0px 1px 2px rgba(60, 64, 67, 0.3), 0px 1px 3px 1px rgba(60, 64, 67, 0.15);\n",
              "      fill: #174EA6;\n",
              "    }\n",
              "\n",
              "    [theme=dark] .colab-df-convert {\n",
              "      background-color: #3B4455;\n",
              "      fill: #D2E3FC;\n",
              "    }\n",
              "\n",
              "    [theme=dark] .colab-df-convert:hover {\n",
              "      background-color: #434B5C;\n",
              "      box-shadow: 0px 1px 3px 1px rgba(0, 0, 0, 0.15);\n",
              "      filter: drop-shadow(0px 1px 2px rgba(0, 0, 0, 0.3));\n",
              "      fill: #FFFFFF;\n",
              "    }\n",
              "  </style>\n",
              "\n",
              "      <script>\n",
              "        const buttonEl =\n",
              "          document.querySelector('#df-5e36f145-d5a5-43c4-aa0b-57a60040c8e7 button.colab-df-convert');\n",
              "        buttonEl.style.display =\n",
              "          google.colab.kernel.accessAllowed ? 'block' : 'none';\n",
              "\n",
              "        async function convertToInteractive(key) {\n",
              "          const element = document.querySelector('#df-5e36f145-d5a5-43c4-aa0b-57a60040c8e7');\n",
              "          const dataTable =\n",
              "            await google.colab.kernel.invokeFunction('convertToInteractive',\n",
              "                                                     [key], {});\n",
              "          if (!dataTable) return;\n",
              "\n",
              "          const docLinkHtml = 'Like what you see? Visit the ' +\n",
              "            '<a target=\"_blank\" href=https://colab.research.google.com/notebooks/data_table.ipynb>data table notebook</a>'\n",
              "            + ' to learn more about interactive tables.';\n",
              "          element.innerHTML = '';\n",
              "          dataTable['output_type'] = 'display_data';\n",
              "          await google.colab.output.renderOutput(dataTable, element);\n",
              "          const docLink = document.createElement('div');\n",
              "          docLink.innerHTML = docLinkHtml;\n",
              "          element.appendChild(docLink);\n",
              "        }\n",
              "      </script>\n",
              "    </div>\n",
              "  </div>\n",
              "  "
            ]
          },
          "metadata": {}
        }
      ],
      "source": [
        "dados = [[0.00001, 0.00001, 6344],[0.0610, 0.0953, 6590],[0.2149, 0.2710, 6980], [0.3187, 0.3600, 7140], [0.4320, 0.4453, 7171], [0.5246, 0.5106, 7216], [0.6117, 0.5735, 7140], [0.7265, 0.6626, 6974], [0.8040, 0.7312, 6845], [0.8830, 0.8200, 6617], [0.8999, 0.8382, 6557], [0.99999, 0.99999, 6073]]\n",
        "\n",
        "P_sat1 = antoine(283.15,4.01814,1203.835,-53.226)\n",
        "P_sat2 = antoine(283.15,3.96988,1203.526,-50.287)\n",
        "\n",
        "\n",
        "df = pd.DataFrame(dados, columns = ['x1', 'y1', 'P (Pa)'])\n",
        "\n",
        "df['x2'] = 1- df['x1']\n",
        "df['y2'] = 1- df['y1']\n",
        "df['ln gamma1'] = np.log((df['y1']*df['P (Pa)'])/(df['x1']*P_sat1))\n",
        "\n",
        "\n",
        "display(df)"
      ]
    },
    {
      "cell_type": "markdown",
      "source": [
        "## Ajuste de função usando o método curve_fit() do Python\n",
        "\n",
        "O retorno são os valores de A e B conforme pede o enunciado."
      ],
      "metadata": {
        "id": "mf1dqWh-gS3i"
      }
    },
    {
      "cell_type": "code",
      "source": [
        "# Ajustar a função escolhida usando a função curve_fit da biblioteca scipy\n",
        "X = df['x2']\n",
        "Yn = df['ln gamma1']\n",
        "\n",
        "[a,b], _= curve_fit(margules, X, Yn) # o _= serve para que a matriz não seja carregada numa variável\n",
        "\n",
        "print(a,b)\n",
        "\n",
        "# Realizar predição com o modelo de aprendizado de máquina\n",
        "Y_pred = margules(X,a,b)"
      ],
      "metadata": {
        "colab": {
          "base_uri": "https://localhost:8080/"
        },
        "id": "PhFeaQUkw-sd",
        "outputId": "9cc8bab3-0a0f-479a-f248-42e64c411526"
      },
      "execution_count": 4,
      "outputs": [
        {
          "output_type": "stream",
          "name": "stdout",
          "text": [
            "1297.9071920148187 698.2811988112039\n"
          ]
        }
      ]
    },
    {
      "cell_type": "markdown",
      "source": [
        "## Construção da nova tabela com os valores calculados a partir de A e B encontrados da regressão."
      ],
      "metadata": {
        "id": "DkUF-BaLgaNU"
      }
    },
    {
      "cell_type": "code",
      "source": [
        "df['P_pred'] = df['x1']*np.exp(margules(df['x2'],a,b))*P_sat1 + df['x2']*np.exp(margules1(df['x1'],a,b))*P_sat2\n",
        "\n",
        "df['gamma1_pred'] = np.exp(margules(df['x2'],a,b))\n",
        "df['y1_pred'] = (df['x1']*df['gamma1_pred']*P_sat1)/df['P_pred']\n",
        "\n",
        "display(df)"
      ],
      "metadata": {
        "colab": {
          "base_uri": "https://localhost:8080/",
          "height": 426
        },
        "id": "3Y0zbLblYU53",
        "outputId": "6a8ef4fc-2d67-4c84-a064-310f9f372399"
      },
      "execution_count": 5,
      "outputs": [
        {
          "output_type": "display_data",
          "data": {
            "text/plain": [
              "         x1       y1  P (Pa)       x2       y2  ln gamma1       P_pred  \\\n",
              "0   0.00001  0.00001    6344  0.99999  0.99999   0.046094  6331.322796   \n",
              "1   0.06100  0.09530    6590  0.93900  0.90470   0.530294  6432.303248   \n",
              "2   0.21490  0.27100    6980  0.78510  0.72900   0.373580  6734.031446   \n",
              "3   0.31870  0.36000    7140  0.68130  0.64000   0.286151  6920.910361   \n",
              "4   0.43200  0.44530    7171  0.56800  0.55470   0.198953  7067.136825   \n",
              "5   0.52460  0.51060    7216  0.47540  0.48940   0.147836  7129.464167   \n",
              "6   0.61170  0.57350    7140  0.38830  0.42650   0.099814  7137.999643   \n",
              "7   0.72650  0.66260    6974  0.27350  0.33740   0.048707  7067.374172   \n",
              "8   0.80400  0.73120    6845  0.19600  0.26880   0.027191  6949.504862   \n",
              "9   0.88300  0.82000    6617  0.11700  0.18000   0.014206  6733.299866   \n",
              "10  0.89990  0.83820    6557  0.10010  0.16180   0.008091  6668.399788   \n",
              "11  0.99999  0.99999    6073  0.00001  0.00001   0.002437  6058.302407   \n",
              "\n",
              "    gamma1_pred   y1_pred  \n",
              "0      1.290102  0.000012  \n",
              "1      1.334294  0.076658  \n",
              "2      1.369115  0.264695  \n",
              "3      1.341447  0.374229  \n",
              "4      1.280874  0.474342  \n",
              "5      1.219255  0.543514  \n",
              "6      1.159322  0.601881  \n",
              "7      1.087120  0.677017  \n",
              "8      1.047526  0.734196  \n",
              "9      1.017988  0.808761  \n",
              "10     1.013339  0.828461  \n",
              "11     1.000000  0.999976  "
            ],
            "text/html": [
              "\n",
              "  <div id=\"df-6d4df1f7-2fb6-42e0-87fd-1d7ffc9d821d\">\n",
              "    <div class=\"colab-df-container\">\n",
              "      <div>\n",
              "<style scoped>\n",
              "    .dataframe tbody tr th:only-of-type {\n",
              "        vertical-align: middle;\n",
              "    }\n",
              "\n",
              "    .dataframe tbody tr th {\n",
              "        vertical-align: top;\n",
              "    }\n",
              "\n",
              "    .dataframe thead th {\n",
              "        text-align: right;\n",
              "    }\n",
              "</style>\n",
              "<table border=\"1\" class=\"dataframe\">\n",
              "  <thead>\n",
              "    <tr style=\"text-align: right;\">\n",
              "      <th></th>\n",
              "      <th>x1</th>\n",
              "      <th>y1</th>\n",
              "      <th>P (Pa)</th>\n",
              "      <th>x2</th>\n",
              "      <th>y2</th>\n",
              "      <th>ln gamma1</th>\n",
              "      <th>P_pred</th>\n",
              "      <th>gamma1_pred</th>\n",
              "      <th>y1_pred</th>\n",
              "    </tr>\n",
              "  </thead>\n",
              "  <tbody>\n",
              "    <tr>\n",
              "      <th>0</th>\n",
              "      <td>0.00001</td>\n",
              "      <td>0.00001</td>\n",
              "      <td>6344</td>\n",
              "      <td>0.99999</td>\n",
              "      <td>0.99999</td>\n",
              "      <td>0.046094</td>\n",
              "      <td>6331.322796</td>\n",
              "      <td>1.290102</td>\n",
              "      <td>0.000012</td>\n",
              "    </tr>\n",
              "    <tr>\n",
              "      <th>1</th>\n",
              "      <td>0.06100</td>\n",
              "      <td>0.09530</td>\n",
              "      <td>6590</td>\n",
              "      <td>0.93900</td>\n",
              "      <td>0.90470</td>\n",
              "      <td>0.530294</td>\n",
              "      <td>6432.303248</td>\n",
              "      <td>1.334294</td>\n",
              "      <td>0.076658</td>\n",
              "    </tr>\n",
              "    <tr>\n",
              "      <th>2</th>\n",
              "      <td>0.21490</td>\n",
              "      <td>0.27100</td>\n",
              "      <td>6980</td>\n",
              "      <td>0.78510</td>\n",
              "      <td>0.72900</td>\n",
              "      <td>0.373580</td>\n",
              "      <td>6734.031446</td>\n",
              "      <td>1.369115</td>\n",
              "      <td>0.264695</td>\n",
              "    </tr>\n",
              "    <tr>\n",
              "      <th>3</th>\n",
              "      <td>0.31870</td>\n",
              "      <td>0.36000</td>\n",
              "      <td>7140</td>\n",
              "      <td>0.68130</td>\n",
              "      <td>0.64000</td>\n",
              "      <td>0.286151</td>\n",
              "      <td>6920.910361</td>\n",
              "      <td>1.341447</td>\n",
              "      <td>0.374229</td>\n",
              "    </tr>\n",
              "    <tr>\n",
              "      <th>4</th>\n",
              "      <td>0.43200</td>\n",
              "      <td>0.44530</td>\n",
              "      <td>7171</td>\n",
              "      <td>0.56800</td>\n",
              "      <td>0.55470</td>\n",
              "      <td>0.198953</td>\n",
              "      <td>7067.136825</td>\n",
              "      <td>1.280874</td>\n",
              "      <td>0.474342</td>\n",
              "    </tr>\n",
              "    <tr>\n",
              "      <th>5</th>\n",
              "      <td>0.52460</td>\n",
              "      <td>0.51060</td>\n",
              "      <td>7216</td>\n",
              "      <td>0.47540</td>\n",
              "      <td>0.48940</td>\n",
              "      <td>0.147836</td>\n",
              "      <td>7129.464167</td>\n",
              "      <td>1.219255</td>\n",
              "      <td>0.543514</td>\n",
              "    </tr>\n",
              "    <tr>\n",
              "      <th>6</th>\n",
              "      <td>0.61170</td>\n",
              "      <td>0.57350</td>\n",
              "      <td>7140</td>\n",
              "      <td>0.38830</td>\n",
              "      <td>0.42650</td>\n",
              "      <td>0.099814</td>\n",
              "      <td>7137.999643</td>\n",
              "      <td>1.159322</td>\n",
              "      <td>0.601881</td>\n",
              "    </tr>\n",
              "    <tr>\n",
              "      <th>7</th>\n",
              "      <td>0.72650</td>\n",
              "      <td>0.66260</td>\n",
              "      <td>6974</td>\n",
              "      <td>0.27350</td>\n",
              "      <td>0.33740</td>\n",
              "      <td>0.048707</td>\n",
              "      <td>7067.374172</td>\n",
              "      <td>1.087120</td>\n",
              "      <td>0.677017</td>\n",
              "    </tr>\n",
              "    <tr>\n",
              "      <th>8</th>\n",
              "      <td>0.80400</td>\n",
              "      <td>0.73120</td>\n",
              "      <td>6845</td>\n",
              "      <td>0.19600</td>\n",
              "      <td>0.26880</td>\n",
              "      <td>0.027191</td>\n",
              "      <td>6949.504862</td>\n",
              "      <td>1.047526</td>\n",
              "      <td>0.734196</td>\n",
              "    </tr>\n",
              "    <tr>\n",
              "      <th>9</th>\n",
              "      <td>0.88300</td>\n",
              "      <td>0.82000</td>\n",
              "      <td>6617</td>\n",
              "      <td>0.11700</td>\n",
              "      <td>0.18000</td>\n",
              "      <td>0.014206</td>\n",
              "      <td>6733.299866</td>\n",
              "      <td>1.017988</td>\n",
              "      <td>0.808761</td>\n",
              "    </tr>\n",
              "    <tr>\n",
              "      <th>10</th>\n",
              "      <td>0.89990</td>\n",
              "      <td>0.83820</td>\n",
              "      <td>6557</td>\n",
              "      <td>0.10010</td>\n",
              "      <td>0.16180</td>\n",
              "      <td>0.008091</td>\n",
              "      <td>6668.399788</td>\n",
              "      <td>1.013339</td>\n",
              "      <td>0.828461</td>\n",
              "    </tr>\n",
              "    <tr>\n",
              "      <th>11</th>\n",
              "      <td>0.99999</td>\n",
              "      <td>0.99999</td>\n",
              "      <td>6073</td>\n",
              "      <td>0.00001</td>\n",
              "      <td>0.00001</td>\n",
              "      <td>0.002437</td>\n",
              "      <td>6058.302407</td>\n",
              "      <td>1.000000</td>\n",
              "      <td>0.999976</td>\n",
              "    </tr>\n",
              "  </tbody>\n",
              "</table>\n",
              "</div>\n",
              "      <button class=\"colab-df-convert\" onclick=\"convertToInteractive('df-6d4df1f7-2fb6-42e0-87fd-1d7ffc9d821d')\"\n",
              "              title=\"Convert this dataframe to an interactive table.\"\n",
              "              style=\"display:none;\">\n",
              "        \n",
              "  <svg xmlns=\"http://www.w3.org/2000/svg\" height=\"24px\"viewBox=\"0 0 24 24\"\n",
              "       width=\"24px\">\n",
              "    <path d=\"M0 0h24v24H0V0z\" fill=\"none\"/>\n",
              "    <path d=\"M18.56 5.44l.94 2.06.94-2.06 2.06-.94-2.06-.94-.94-2.06-.94 2.06-2.06.94zm-11 1L8.5 8.5l.94-2.06 2.06-.94-2.06-.94L8.5 2.5l-.94 2.06-2.06.94zm10 10l.94 2.06.94-2.06 2.06-.94-2.06-.94-.94-2.06-.94 2.06-2.06.94z\"/><path d=\"M17.41 7.96l-1.37-1.37c-.4-.4-.92-.59-1.43-.59-.52 0-1.04.2-1.43.59L10.3 9.45l-7.72 7.72c-.78.78-.78 2.05 0 2.83L4 21.41c.39.39.9.59 1.41.59.51 0 1.02-.2 1.41-.59l7.78-7.78 2.81-2.81c.8-.78.8-2.07 0-2.86zM5.41 20L4 18.59l7.72-7.72 1.47 1.35L5.41 20z\"/>\n",
              "  </svg>\n",
              "      </button>\n",
              "      \n",
              "  <style>\n",
              "    .colab-df-container {\n",
              "      display:flex;\n",
              "      flex-wrap:wrap;\n",
              "      gap: 12px;\n",
              "    }\n",
              "\n",
              "    .colab-df-convert {\n",
              "      background-color: #E8F0FE;\n",
              "      border: none;\n",
              "      border-radius: 50%;\n",
              "      cursor: pointer;\n",
              "      display: none;\n",
              "      fill: #1967D2;\n",
              "      height: 32px;\n",
              "      padding: 0 0 0 0;\n",
              "      width: 32px;\n",
              "    }\n",
              "\n",
              "    .colab-df-convert:hover {\n",
              "      background-color: #E2EBFA;\n",
              "      box-shadow: 0px 1px 2px rgba(60, 64, 67, 0.3), 0px 1px 3px 1px rgba(60, 64, 67, 0.15);\n",
              "      fill: #174EA6;\n",
              "    }\n",
              "\n",
              "    [theme=dark] .colab-df-convert {\n",
              "      background-color: #3B4455;\n",
              "      fill: #D2E3FC;\n",
              "    }\n",
              "\n",
              "    [theme=dark] .colab-df-convert:hover {\n",
              "      background-color: #434B5C;\n",
              "      box-shadow: 0px 1px 3px 1px rgba(0, 0, 0, 0.15);\n",
              "      filter: drop-shadow(0px 1px 2px rgba(0, 0, 0, 0.3));\n",
              "      fill: #FFFFFF;\n",
              "    }\n",
              "  </style>\n",
              "\n",
              "      <script>\n",
              "        const buttonEl =\n",
              "          document.querySelector('#df-6d4df1f7-2fb6-42e0-87fd-1d7ffc9d821d button.colab-df-convert');\n",
              "        buttonEl.style.display =\n",
              "          google.colab.kernel.accessAllowed ? 'block' : 'none';\n",
              "\n",
              "        async function convertToInteractive(key) {\n",
              "          const element = document.querySelector('#df-6d4df1f7-2fb6-42e0-87fd-1d7ffc9d821d');\n",
              "          const dataTable =\n",
              "            await google.colab.kernel.invokeFunction('convertToInteractive',\n",
              "                                                     [key], {});\n",
              "          if (!dataTable) return;\n",
              "\n",
              "          const docLinkHtml = 'Like what you see? Visit the ' +\n",
              "            '<a target=\"_blank\" href=https://colab.research.google.com/notebooks/data_table.ipynb>data table notebook</a>'\n",
              "            + ' to learn more about interactive tables.';\n",
              "          element.innerHTML = '';\n",
              "          dataTable['output_type'] = 'display_data';\n",
              "          await google.colab.output.renderOutput(dataTable, element);\n",
              "          const docLink = document.createElement('div');\n",
              "          docLink.innerHTML = docLinkHtml;\n",
              "          element.appendChild(docLink);\n",
              "        }\n",
              "      </script>\n",
              "    </div>\n",
              "  </div>\n",
              "  "
            ]
          },
          "metadata": {}
        }
      ]
    },
    {
      "cell_type": "markdown",
      "source": [
        "## Plotagem do Gráfico de P-xy"
      ],
      "metadata": {
        "id": "AZ0slMwchgvG"
      }
    },
    {
      "cell_type": "code",
      "source": [
        "plt.style.use('ggplot')\n",
        "plt.scatter(df['x1'],df['P (Pa)'], c='b', marker='o')\n",
        "plt.scatter(df['y1'],df['P (Pa)'], c='r', marker='o')\n",
        "plt.plot(df['x1'],df['P_pred'], c='b')\n",
        "plt.plot(df['y1_pred'],df['P_pred'], c='r')\n",
        "plt.title('Diagrama P-$x_1y_1$')\n",
        "plt.ylabel('$P$ [Pa]')\n",
        "plt.xlabel('$x_1$, $y_1$')\n",
        "plt.legend(['Pressão da fase líquida (predita)','Pressão da fase vapor (predita)','Pressão da fase líquida (experimental)','Pressão da fase vapor (experimental)'],loc=(0,-0.5))"
      ],
      "metadata": {
        "colab": {
          "base_uri": "https://localhost:8080/",
          "height": 393
        },
        "id": "zCGFzQBVbUgu",
        "outputId": "6006c4a7-5088-4eec-d0c1-24e54158cf79"
      },
      "execution_count": 6,
      "outputs": [
        {
          "output_type": "execute_result",
          "data": {
            "text/plain": [
              "<matplotlib.legend.Legend at 0x7f154a8ebc10>"
            ]
          },
          "metadata": {},
          "execution_count": 6
        },
        {
          "output_type": "display_data",
          "data": {
            "text/plain": [
              "<Figure size 432x288 with 1 Axes>"
            ],
            "image/png": "[encoded data removed]"
          },
          "metadata": {}
        }
      ]
    },
    {
      "cell_type": "markdown",
      "source": [
        "## Métricas de Ajuste = $R^2$ e MSE (Mean Square Error)."
      ],
      "metadata": {
        "id": "-miqJRGfhkyj"
      }
    },
    {
      "cell_type": "code",
      "source": [
        "r2 = r2_score(df['P (Pa)'], df['P_pred'])\n",
        "mse = mean_squared_error(df['P (Pa)'], df['P_pred'])\n",
        "\n",
        "print('Métricas em relação à pressão experimental e à pressão calculada\\n')\n",
        "print('R^2 = ',r2, '\\nMSE = ', mse,'\\n')\n",
        "\n",
        "r2 = r2_score(df['y1'], df['y1_pred'])\n",
        "mse = mean_squared_error(df['y1'], df['y1_pred'])\n",
        "\n",
        "print('Métricas em relação à y1 experimental e a y1 calculado\\n')\n",
        "print('R^2 = ',r2, '\\nMSE = ', mse)"
      ],
      "metadata": {
        "colab": {
          "base_uri": "https://localhost:8080/"
        },
        "id": "KioarHh3cH-b",
        "outputId": "438d57d4-888d-40c0-9232-f5b53de06d9c"
      },
      "execution_count": 7,
      "outputs": [
        {
          "output_type": "stream",
          "name": "stdout",
          "text": [
            "Métricas em relação à pressão experimental e à pressão calculada\n",
            "\n",
            "R^2 =  0.8664419592166713 \n",
            "MSE =  16466.781724649274 \n",
            "\n",
            "Métricas em relação à y1 experimental e a y1 calculado\n",
            "\n",
            "R^2 =  0.9963605196412902 \n",
            "MSE =  0.0003133262880336733\n"
          ]
        }
      ]
    },
    {
      "cell_type": "markdown",
      "source": [
        "## Plotagem do gráfico de $y_1$ e $x_1$."
      ],
      "metadata": {
        "id": "8AXZBAywl_PN"
      }
    },
    {
      "cell_type": "code",
      "source": [
        "plt.style.use('ggplot')\n",
        "plt.scatter(df['x1'],df['y1'], c='b', marker='o')\n",
        "plt.plot(df['x1'],df['y1_pred'], c='b')\n",
        "plt.title('Diagrama $y_1$ vs $x_1$')\n",
        "plt.ylabel('$y_1$')\n",
        "plt.xlabel('$x_1$')\n",
        "plt.legend(['Diagrama $y_1$ vs $x_1$ (predita)','Diagrama $y_1$ vs $x_1$ (experimental)'],loc=(0,-0.5))"
      ],
      "metadata": {
        "colab": {
          "base_uri": "https://localhost:8080/",
          "height": 393
        },
        "id": "-Vy39egOcWD8",
        "outputId": "e1697478-22dc-456e-a818-68f4cb6fbafc"
      },
      "execution_count": 8,
      "outputs": [
        {
          "output_type": "execute_result",
          "data": {
            "text/plain": [
              "<matplotlib.legend.Legend at 0x7f154a7c60d0>"
            ]
          },
          "metadata": {},
          "execution_count": 8
        },
        {
          "output_type": "display_data",
          "data": {
            "text/plain": [
              "<Figure size 432x288 with 1 Axes>"
            ],
            "image/png": "[encoded data removed]"
          },
          "metadata": {}
        }
      ]
    }
  ]
}